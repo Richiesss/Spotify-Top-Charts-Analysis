{
 "cells": [
  {
   "cell_type": "code",
   "execution_count": 85,
   "id": "b1e067c3",
   "metadata": {},
   "outputs": [],
   "source": [
    "# Import packages\n",
    "import pandas as pd\n",
    "import numpy as np\n",
    "import scipy\n",
    "from scipy import stats as st\n",
    "import matplotlib.pyplot as plt\n",
    "import seaborn as sns"
   ]
  },
  {
   "cell_type": "code",
   "execution_count": 86,
   "id": "ddf14183",
   "metadata": {},
   "outputs": [],
   "source": [
    "# Read the file created with Audio_Summary_Visualized.ipynb\n",
    "result = pd.read_csv(\"Top_Hits_2000_2019.csv\")"
   ]
  },
  {
   "cell_type": "code",
   "execution_count": 72,
   "id": "d25733a5",
   "metadata": {},
   "outputs": [],
   "source": [
    "# Calculate the mean values for every 100 tracks (= for each year)\n",
    "# For our quantitative parameters\n",
    "tempo_mean = []\n",
    "dur_mean = []\n",
    "for i in range(0, 2000, 100):\n",
    "    tempo_mean.append(np.mean(result[\"tempo [bpm]\"][i : i + 100]))\n",
    "    dur_mean.append(np.mean(result[\"duration [min]\"][i : i + 100]))"
   ]
  },
  {
   "cell_type": "code",
   "execution_count": 87,
   "id": "3129939a",
   "metadata": {},
   "outputs": [],
   "source": [
    "# Create arrays of genres and keys\n",
    "genre_lis = result[\"genre\"].unique()\n",
    "key_lis = result[\"key\"].unique()"
   ]
  },
  {
   "cell_type": "code",
   "execution_count": 88,
   "id": "124ee7af",
   "metadata": {},
   "outputs": [
    {
     "name": "stdout",
     "output_type": "stream",
     "text": [
      "['pop' 'rock' 'hip hop' 'Dance/Electronic' 'metal' 'R&B' 'Others'\n",
      " 'World/Traditional' 'latin' 'country']\n",
      "['C#' 'C' 'G' 'G#' 'D' 'F' 'F#' 'B' 'D#' 'A#' 'A' 'E']\n"
     ]
    }
   ],
   "source": [
    "# Print out to check the order (s)\n",
    "print(genre_lis)\n",
    "print(key_lis)"
   ]
  },
  {
   "cell_type": "code",
   "execution_count": 75,
   "id": "d732fb15",
   "metadata": {},
   "outputs": [],
   "source": [
    "# Create empty lists to store the counts for each genre and key\n",
    "(\n",
    "    pop_count,\n",
    "    hiphop_count,\n",
    "    rock_count,\n",
    "    dance_count,\n",
    "    latin_count,\n",
    "    rb_count,\n",
    "    country_count,\n",
    "    world_count,\n",
    "    metal_count,\n",
    "    others_count,\n",
    ") = ([], [], [], [], [], [], [], [], [], [])\n",
    "(\n",
    "    C_count,\n",
    "    Cs_count,\n",
    "    D_count,\n",
    "    Ds_count,\n",
    "    E_count,\n",
    "    F_count,\n",
    "    Fs_count,\n",
    "    G_count,\n",
    "    Gs_count,\n",
    "    A_count,\n",
    "    As_count,\n",
    "    B_count,\n",
    ") = ([], [], [], [], [], [], [], [], [], [], [], [])\n",
    "# Iterate the tracks, count the frequency\n",
    "for i in range(0, 2000, 100):\n",
    "    df = result.iloc[i : i + 99]\n",
    "    pop_count.append((df[\"genre\"] == genre_lis[0]).sum())\n",
    "    rock_count.append((df[\"genre\"] == genre_lis[1]).sum())\n",
    "    hiphop_count.append((df[\"genre\"] == genre_lis[2]).sum())\n",
    "    dance_count.append((df[\"genre\"] == genre_lis[3]).sum())\n",
    "    metal_count.append((df[\"genre\"] == genre_lis[4]).sum())\n",
    "    rb_count.append((df[\"genre\"] == genre_lis[5]).sum())\n",
    "    others_count.append((df[\"genre\"] == genre_lis[6]).sum())\n",
    "    world_count.append((df[\"genre\"] == genre_lis[7]).sum())\n",
    "    latin_count.append((df[\"genre\"] == genre_lis[8]).sum())\n",
    "    country_count.append((df[\"genre\"] == genre_lis[9]).sum())\n",
    "\n",
    "    Cs_count.append((df[\"key\"] == key_lis[0]).sum())\n",
    "    C_count.append((df[\"key\"] == key_lis[1]).sum())\n",
    "    G_count.append((df[\"key\"] == key_lis[2]).sum())\n",
    "    Gs_count.append((df[\"key\"] == key_lis[3]).sum())\n",
    "    D_count.append((df[\"key\"] == key_lis[4]).sum())\n",
    "    F_count.append((df[\"key\"] == key_lis[5]).sum())\n",
    "    Fs_count.append((df[\"key\"] == key_lis[6]).sum())\n",
    "    B_count.append((df[\"key\"] == key_lis[7]).sum())\n",
    "    Ds_count.append((df[\"key\"] == key_lis[8]).sum())\n",
    "    As_count.append((df[\"key\"] == key_lis[9]).sum())\n",
    "    A_count.append((df[\"key\"] == key_lis[10]).sum())\n",
    "    E_count.append((df[\"key\"] == key_lis[11]).sum())"
   ]
  },
  {
   "cell_type": "code",
   "execution_count": 76,
   "id": "dd11ca39",
   "metadata": {},
   "outputs": [],
   "source": [
    "# Creates an array of appropriate labels for the year(s)\n",
    "yr_label = []\n",
    "for i in range(20):\n",
    "    if i < 10:\n",
    "        yr_label.append(\"'0\" + str(i))\n",
    "    else:\n",
    "        yr_label.append(\"'\" + str(i))"
   ]
  },
  {
   "cell_type": "code",
   "execution_count": 77,
   "id": "a82cafdd",
   "metadata": {},
   "outputs": [],
   "source": [
    "# Create a DataFrame\n",
    "df = pd.DataFrame(\n",
    "    {\n",
    "        \"year\": np.arange(20) + 2000,\n",
    "        \"mean_tempo_bpm\": tempo_mean,\n",
    "        \"mean_duration_min\": dur_mean,\n",
    "        \"pop_count\": pop_count,\n",
    "        \"hiphop_count\": hiphop_count,\n",
    "        \"rock_count\": rock_count,\n",
    "        \"dance_count\": dance_count,\n",
    "        \"latin_count\": latin_count,\n",
    "        \"rb_count\": rb_count,\n",
    "        \"country_count\": country_count,\n",
    "        \"metal_count\": metal_count,\n",
    "        \"others_count\": others_count,\n",
    "        \"C_count\": C_count,\n",
    "        \"C#_count\": Cs_count,\n",
    "        \"D_count\": Ds_count,\n",
    "        \"E_count\": E_count,\n",
    "        \"F_count\": F_count,\n",
    "        \"F#_count\": Fs_count,\n",
    "        \"G_count\": G_count,\n",
    "        \"G#_count\": Gs_count,\n",
    "        \"A_count\": A_count,\n",
    "        \"A#_count\": As_count,\n",
    "        \"B_count\": B_count,\n",
    "    }\n",
    ")"
   ]
  },
  {
   "cell_type": "markdown",
   "id": "8bb6bc26",
   "metadata": {},
   "source": [
    "## Save the dataframe as csv file"
   ]
  },
  {
   "cell_type": "code",
   "execution_count": 84,
   "id": "c66d4ec8",
   "metadata": {},
   "outputs": [],
   "source": [
    "# save dataframe to csv file\n",
    "df.to_csv(\"Top_Hits_Yearly.csv\", index=False)"
   ]
  }
 ],
 "metadata": {
  "kernelspec": {
   "display_name": "Python 3 (ipykernel)",
   "language": "python",
   "name": "python3"
  },
  "language_info": {
   "codemirror_mode": {
    "name": "ipython",
    "version": 3
   },
   "file_extension": ".py",
   "mimetype": "text/x-python",
   "name": "python",
   "nbconvert_exporter": "python",
   "pygments_lexer": "ipython3",
   "version": "3.9.7"
  }
 },
 "nbformat": 4,
 "nbformat_minor": 5
}
